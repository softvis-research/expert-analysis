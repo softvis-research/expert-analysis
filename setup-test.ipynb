{
 "cells": [
  {
   "cell_type": "markdown",
   "id": "fcdc66e0",
   "metadata": {},
   "source": [
    "# Setting up Neo4j, Jupyter Notebook and Binder"
   ]
  },
  {
   "cell_type": "markdown",
   "id": "bb6453eb",
   "metadata": {},
   "source": [
    "## 1. Verbindung zur Neo4j-Datenbank\n",
    "Die Datenbank enthäft die GitHub-Issues des [jQAssistant GitHub-Issue-Plugins](https://github.com/softvis-research/jqa-githubissues-plugin)"
   ]
  },
  {
   "cell_type": "code",
   "execution_count": 7,
   "id": "a99ffc56",
   "metadata": {},
   "outputs": [],
   "source": [
    "import py2neo\n",
    "\n",
    "graph = py2neo.Graph(host='localhost', user='', password='')"
   ]
  },
  {
   "cell_type": "markdown",
   "id": "93136b39",
   "metadata": {},
   "source": [
    "## 2. Cypher-Abfrage\n",
    "\n",
    "Abfrage: Gebe Benutzer aus, die Issues erstellt haben, absteigend sortiert nach Anzahl der Issues"
   ]
  },
  {
   "cell_type": "code",
   "execution_count": 9,
   "id": "877c4833",
   "metadata": {},
   "outputs": [
    {
     "data": {
      "text/html": [
       "<div>\n",
       "<style scoped>\n",
       "    .dataframe tbody tr th:only-of-type {\n",
       "        vertical-align: middle;\n",
       "    }\n",
       "\n",
       "    .dataframe tbody tr th {\n",
       "        vertical-align: top;\n",
       "    }\n",
       "\n",
       "    .dataframe thead th {\n",
       "        text-align: right;\n",
       "    }\n",
       "</style>\n",
       "<table border=\"1\" class=\"dataframe\">\n",
       "  <thead>\n",
       "    <tr style=\"text-align: right;\">\n",
       "      <th></th>\n",
       "      <th>User</th>\n",
       "      <th>IssueCount</th>\n",
       "    </tr>\n",
       "  </thead>\n",
       "  <tbody>\n",
       "    <tr>\n",
       "      <th>0</th>\n",
       "      <td>dependabot[bot]</td>\n",
       "      <td>9</td>\n",
       "    </tr>\n",
       "    <tr>\n",
       "      <th>1</th>\n",
       "      <td>b-pos465</td>\n",
       "      <td>9</td>\n",
       "    </tr>\n",
       "    <tr>\n",
       "      <th>2</th>\n",
       "      <td>DirkMahler</td>\n",
       "      <td>3</td>\n",
       "    </tr>\n",
       "    <tr>\n",
       "      <th>3</th>\n",
       "      <td>fxj9a</td>\n",
       "      <td>2</td>\n",
       "    </tr>\n",
       "    <tr>\n",
       "      <th>4</th>\n",
       "      <td>naraesk</td>\n",
       "      <td>1</td>\n",
       "    </tr>\n",
       "  </tbody>\n",
       "</table>\n",
       "</div>"
      ],
      "text/plain": [
       "              User  IssueCount\n",
       "0  dependabot[bot]           9\n",
       "1         b-pos465           9\n",
       "2       DirkMahler           3\n",
       "3            fxj9a           2\n",
       "4          naraesk           1"
      ]
     },
     "execution_count": 9,
     "metadata": {},
     "output_type": "execute_result"
    }
   ],
   "source": [
    "import pandas as pd\n",
    "\n",
    "query =\"MATCH (Issue)-[:CREATED_BY]->(u:User) RETURN u.login as User, count(*) as IssueCount ORDER BY IssueCount DESC\"\n",
    "dataframe = pd.DataFrame(graph.run(query).data())\n",
    "dataframe.head()"
   ]
  },
  {
   "cell_type": "code",
   "execution_count": 10,
   "id": "f21eb06b",
   "metadata": {},
   "outputs": [
    {
     "data": {
      "text/plain": [
       "<AxesSubplot:>"
      ]
     },
     "execution_count": 10,
     "metadata": {},
     "output_type": "execute_result"
    },
    {
     "data": {
      "image/png": "[encoded data removed]",
      "text/plain": [
       "<Figure size 432x288 with 1 Axes>"
      ]
     },
     "metadata": {
      "needs_background": "light"
     },
     "output_type": "display_data"
    }
   ],
   "source": [
    "dataframe.plot()"
   ]
  },
  {
   "cell_type": "code",
   "execution_count": null,
   "id": "61a179fa",
   "metadata": {},
   "outputs": [],
   "source": []
  }
 ],
 "metadata": {
  "kernelspec": {
   "display_name": "Python 3",
   "language": "python",
   "name": "python3"
  },
  "language_info": {
   "codemirror_mode": {
    "name": "ipython",
    "version": 3
   },
   "file_extension": ".py",
   "mimetype": "text/x-python",
   "name": "python",
   "nbconvert_exporter": "python",
   "pygments_lexer": "ipython3",
   "version": "3.8.8"
  }
 },
 "nbformat": 4,
 "nbformat_minor": 5
}
